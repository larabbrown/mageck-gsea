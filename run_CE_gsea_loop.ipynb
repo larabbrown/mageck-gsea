{
 "cells": [
  {
   "cell_type": "markdown",
   "id": "7c65213d-f584-444c-9eac-813993fca482",
   "metadata": {
    "tags": []
   },
   "source": [
    "Co-Essential GSEA Pipeline\n",
    "\n",
    "Lara Brown"
   ]
  },
  {
   "cell_type": "code",
   "execution_count": 1,
   "id": "a91fc0de-1797-4ce5-8ed8-08065060eb51",
   "metadata": {
    "tags": []
   },
   "outputs": [
    {
     "data": {
      "text/markdown": [
       "##### Last updated: 2023-06-01"
      ],
      "text/plain": [
       "<IPython.core.display.Markdown object>"
      ]
     },
     "metadata": {},
     "output_type": "display_data"
    }
   ],
   "source": [
    "from datetime import datetime\n",
    "from IPython.display import display, Markdown\n",
    "\n",
    "todays_date = str(datetime.now().date())\n",
    "\n",
    "display(Markdown(f'##### Last updated: {todays_date}'))"
   ]
  },
  {
   "cell_type": "markdown",
   "id": "b59d817f-ec0f-460d-8057-a5393878b427",
   "metadata": {
    "tags": []
   },
   "source": [
    "## Overview\n",
    "\n",
    "Run MAGeCK outputs through co-essential GSEA (gene set enrichment analysis).\n",
    "\n",
    "## Requirements\n",
    "\n",
    "You will need a conda environment with MAGeCK installed and properly functioning, as well as access to Jupyter lab. You will also need the libraries imported below. Further, you'll need access to the gene_summary.txt output of MAGeCK, and/or a csv file corresponding to corrected/adjusted LFCs from the MAGeCK output."
   ]
  },
  {
   "cell_type": "code",
   "execution_count": 2,
   "id": "b8c59d3a",
   "metadata": {},
   "outputs": [],
   "source": [
    "import sys\n",
    "import pandas as pd\n",
    "import glob\n",
    "import pandas as pd\n",
    "import gseapy as gp\n",
    "import pathlib\n",
    "import re"
   ]
  },
  {
   "cell_type": "markdown",
   "id": "e03e7b52",
   "metadata": {},
   "source": [
    "Convert Mageck gene summary to coessentiality GSEA input"
   ]
  },
  {
   "cell_type": "code",
   "execution_count": 3,
   "id": "121ab6ff-0b69-46e0-babb-b7212f245551",
   "metadata": {},
   "outputs": [
    {
     "data": {
      "text/plain": [
       "'/Users/lbb34/cassasherwood/cassa-sherwood-labs/mageck-gsea'"
      ]
     },
     "execution_count": 3,
     "metadata": {},
     "output_type": "execute_result"
    }
   ],
   "source": [
    "import os\n",
    "os.getcwd()"
   ]
  },
  {
   "cell_type": "code",
   "execution_count": 4,
   "id": "25c8d390-707d-41d0-b28d-884c23e357be",
   "metadata": {
    "scrolled": true
   },
   "outputs": [],
   "source": [
    "df = pd.read_csv(\"hepg2_corrected_lfc.csv\")"
   ]
  },
  {
   "cell_type": "code",
   "execution_count": 5,
   "id": "1fda7d15-a98a-4532-b861-837e746df9e3",
   "metadata": {},
   "outputs": [
    {
     "data": {
      "text/plain": [
       "Index(['id', 'APOA1_LFC_residuals', 'APOE_LFC_residuals',\n",
       "       'APOC3_LFC_residuals', 'AHSG_LFC_residuals', 'IGFBP1_LFC_residuals',\n",
       "       'Mean_LFC_residuals', 'Median_LFC_residuals', 'Mean_APO_LFC_residuals'],\n",
       "      dtype='object')"
      ]
     },
     "execution_count": 5,
     "metadata": {},
     "output_type": "execute_result"
    }
   ],
   "source": [
    "df.columns"
   ]
  },
  {
   "cell_type": "markdown",
   "id": "035152d4",
   "metadata": {},
   "source": [
    "Parameters and ouput path of coessentiality GSEA"
   ]
  },
  {
   "cell_type": "code",
   "execution_count": 6,
   "id": "741e4b83",
   "metadata": {
    "scrolled": true,
    "tags": []
   },
   "outputs": [],
   "source": [
    "d = 0.2 # module distance cut-off\n",
    "PROCESSES = 4 # numbe of CPU threads to use\n",
    "PERMUTATION_NUM = 100\n",
    "MIN_SIZE = 4\n",
    "SEED=0\n",
    "module_paths = {\n",
    "    0.1 : \"./GSEA_module_files/GO_Annotated_Modules_d_0.1.csv\",\n",
    "    0.2 : \"./GSEA_module_files/GO_Annotated_Modules_d_0.2.csv\",\n",
    "    0.3 : \"./GSEA_module_files/GO_Annotated_Modules_d_0.3.csv\",\n",
    "    0.4 : \"./GSEA_module_files/GO_Annotated_Modules_d_0.4.csv\",\n",
    "    0.5 : \"./GSEA_module_files/GO_Annotated_Modules_d_0.5.csv\",\n",
    "    0.6 : \"./GSEA_module_files/GO_Annotated_Modules_d_0.6.csv\"\n",
    "}"
   ]
  },
  {
   "cell_type": "markdown",
   "id": "853ecbde",
   "metadata": {},
   "source": [
    "Create gene set from all moduels"
   ]
  },
  {
   "cell_type": "code",
   "execution_count": 7,
   "id": "c02712c5",
   "metadata": {
    "scrolled": true
   },
   "outputs": [],
   "source": [
    "def rnk_df(df, score_col, id_col=\"id\"):\n",
    "    rnk = df[[id_col, score_col]].rename(columns={id_col:0, score_col:1})\n",
    "    rnk = rnk.dropna()\n",
    "    rnk = rnk.sort_values(by = 1, ascending = False)\n",
    "    return rnk\n",
    "\n",
    "def gene_set(rnk, score_col, modules):\n",
    "    \n",
    "    gene_members = set(rnk[0].values) ## creates set out of values in column index 1 of rnk\n",
    "    counter = 0\n",
    "    gene_sets = {}\n",
    "    ## for every module, add list of their member genes to a set\n",
    "    for index, row in modules.iterrows():\n",
    "        members = row[\"Members\"].split(\" \")\n",
    "        members = list(filter(lambda x : x in gene_members, members))\n",
    "        gene_sets[f\"module_{index}\"] = members\n",
    "    \n",
    "    return gene_sets\n",
    "    \n",
    "def run_ce_gsea(rnk, gene_sets, GSEA_out_path):\n",
    "    pre_res = gp.prerank(\n",
    "        rnk=rnk,\n",
    "        gene_sets = gene_sets,\n",
    "        processes=PROCESSES, ## default 1 process; upping number would be parallel processes\n",
    "        permutation_num=PERMUTATION_NUM, ## reduce number to speed up testing (1000 or less) ; take score and do 10,000 permutations (like sample size)\n",
    "        outdir= GSEA_out_path,\n",
    "        format='png',\n",
    "        min_size = MIN_SIZE,\n",
    "        seed=SEED\n",
    "    )\n",
    "\n",
    "def process_gsea_results(modules, GSEA_out_path, final_out_path):\n",
    "    out_df = pd.read_csv(GSEA_out_path + \"gseapy.gene_set.prerank.report.csv\", index_col = \"Term\")\n",
    "    modules[\"Term\"] = list(\n",
    "            map(lambda x : \"module_\" + str(x) if \"module\" not in str(x) else str(x), list(modules.index))\n",
    "        )\n",
    "    \n",
    "    modules.set_index(\"Term\", inplace = True)\n",
    "    GO_columns = [\n",
    "        \"Top GO Terms\",\n",
    "        \"Top GO Term p-values\",\n",
    "        \"Top GO FDRs\",\n",
    "        \"Top GO Term Fold Enrichments\"\n",
    "    ]\n",
    "    out_df = out_df.join(modules[GO_columns])\n",
    "    \n",
    "    if not pathlib.Path(final_out_path).is_file():\n",
    "        out_df.to_csv(final_out_path)\n",
    "        \n",
    "def modules_func(d):\n",
    "    if d in module_paths.keys():\n",
    "        module_path_dir = module_paths[d]\n",
    "        modules = pd.read_csv(module_paths[d], index_col = \"Cluster\")\n",
    "\n",
    "    return modules\n"
   ]
  },
  {
   "cell_type": "markdown",
   "id": "62a51adc-0c79-4e69-8993-f9e03ef7da36",
   "metadata": {},
   "source": [
    "Run CE-GSEA for all columns/sets"
   ]
  },
  {
   "cell_type": "code",
   "execution_count": 8,
   "id": "4848c5af-69fb-4b34-b92d-bfc4bcad414f",
   "metadata": {},
   "outputs": [
    {
     "name": "stdout",
     "output_type": "stream",
     "text": [
      "APOA1_LFC\n"
     ]
    },
    {
     "name": "stderr",
     "output_type": "stream",
     "text": [
      "/Users/lbb34/miniconda3/envs/mageck-env/lib/python3.7/site-packages/ipykernel_launcher.py:29: DeprecationWarning: processes is deprecated; use threads\n"
     ]
    },
    {
     "name": "stdout",
     "output_type": "stream",
     "text": [
      "APOE_LFC\n",
      "APOC3_LFC\n",
      "AHSG_LFC\n"
     ]
    },
    {
     "name": "stderr",
     "output_type": "stream",
     "text": [
      "2023-06-01 14:37:59,030 [WARNING] Duplicated values found in preranked stats: 0.02% of genes\n",
      "The order of those genes will be arbitrary, which may produce unexpected results.\n"
     ]
    },
    {
     "name": "stdout",
     "output_type": "stream",
     "text": [
      "IGFBP1_LFC\n",
      "Mean_LFC\n"
     ]
    },
    {
     "name": "stderr",
     "output_type": "stream",
     "text": [
      "2023-06-01 14:38:07,700 [WARNING] Duplicated values found in preranked stats: 0.02% of genes\n",
      "The order of those genes will be arbitrary, which may produce unexpected results.\n"
     ]
    },
    {
     "name": "stdout",
     "output_type": "stream",
     "text": [
      "Median_LFC\n",
      "Mean_APO_LFC\n",
      "CPU times: user 44.3 s, sys: 1.4 s, total: 45.8 s\n",
      "Wall time: 38.9 s\n"
     ]
    }
   ],
   "source": [
    "%%time\n",
    "\n",
    "for lfc_col in [c for c in df.columns.to_list() if c.endswith(\"_residuals\")]:\n",
    "    print(re.sub('\\_residuals', '', lfc_col))\n",
    "    lfc_col_stripped = re.sub('\\_residuals', '', lfc_col)\n",
    "    pathlib.Path(f\"./CoessentialGSEA_output/{lfc_col_stripped}_output/\").mkdir(parents=True, exist_ok=True)\n",
    "    \n",
    "    GSEA_out_path = f\"./CoessentialGSEA_output/{lfc_col_stripped}_output/\" # path to GSEA plots and csv\n",
    "    final_out_path = f\"./CoessentialGSEA_output/{lfc_col_stripped}_results.csv\" # path to final output\n",
    "    \n",
    "    rnk = rnk_df(df, lfc_col)\n",
    "    \n",
    "    modules = modules_func(d)\n",
    "    \n",
    "    gene_sets = gene_set(rnk, lfc_col, modules)\n",
    "    \n",
    "    run_ce_gsea(rnk, gene_sets, GSEA_out_path)\n",
    "    \n",
    "    process_gsea_results(modules, GSEA_out_path, final_out_path)"
   ]
  }
 ],
 "metadata": {
  "kernelspec": {
   "display_name": "Python 3 (ipykernel)",
   "language": "python",
   "name": "python3"
  },
  "language_info": {
   "codemirror_mode": {
    "name": "ipython",
    "version": 3
   },
   "file_extension": ".py",
   "mimetype": "text/x-python",
   "name": "python",
   "nbconvert_exporter": "python",
   "pygments_lexer": "ipython3",
   "version": "3.7.7"
  }
 },
 "nbformat": 4,
 "nbformat_minor": 5
}
